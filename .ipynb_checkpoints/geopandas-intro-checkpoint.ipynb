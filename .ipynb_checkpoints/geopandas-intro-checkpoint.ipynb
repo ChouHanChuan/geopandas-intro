{
 "cells": [
  {
   "cell_type": "code",
   "execution_count": 1,
   "metadata": {
    "collapsed": true
   },
   "outputs": [],
   "source": [
    "import numpy as np\n",
    "import pandas as pd\n",
    "import matplotlib.pyplot as plt\n",
    "%matplotlib inline"
   ]
  },
  {
   "cell_type": "markdown",
   "metadata": {},
   "source": [
    "資料來源 : [http://data.gov.tw/node/6121](http://data.gov.tw/node/6121)\n",
    "\n",
    "資料名稱 : 全國郵局ATM分佈"
   ]
  },
  {
   "cell_type": "code",
   "execution_count": 2,
   "metadata": {
    "collapsed": true
   },
   "outputs": [],
   "source": [
    "df = pd.read_csv('post_atm.csv', header=None)"
   ]
  },
  {
   "cell_type": "code",
   "execution_count": 3,
   "metadata": {},
   "outputs": [
    {
     "data": {
      "text/html": [
       "<div>\n",
       "<style>\n",
       "    .dataframe thead tr:only-child th {\n",
       "        text-align: right;\n",
       "    }\n",
       "\n",
       "    .dataframe thead th {\n",
       "        text-align: left;\n",
       "    }\n",
       "\n",
       "    .dataframe tbody tr th {\n",
       "        vertical-align: top;\n",
       "    }\n",
       "</style>\n",
       "<table border=\"1\" class=\"dataframe\">\n",
       "  <thead>\n",
       "    <tr style=\"text-align: right;\">\n",
       "      <th></th>\n",
       "      <th>0</th>\n",
       "      <th>1</th>\n",
       "      <th>2</th>\n",
       "      <th>3</th>\n",
       "      <th>4</th>\n",
       "      <th>5</th>\n",
       "      <th>6</th>\n",
       "      <th>7</th>\n",
       "      <th>8</th>\n",
       "      <th>9</th>\n",
       "      <th>10</th>\n",
       "      <th>11</th>\n",
       "      <th>12</th>\n",
       "      <th>13</th>\n",
       "    </tr>\n",
       "  </thead>\n",
       "  <tbody>\n",
       "    <tr>\n",
       "      <th>0</th>\n",
       "      <td>基隆市</td>\n",
       "      <td>七堵區</td>\n",
       "      <td>NaN</td>\n",
       "      <td>基隆商工--側門旁</td>\n",
       "      <td>(02)2421-0148</td>\n",
       "      <td>東新街22號</td>\n",
       "      <td>121.717500</td>\n",
       "      <td>25.094999</td>\n",
       "      <td>NaN</td>\n",
       "      <td>NaN</td>\n",
       "      <td>自動補摺機</td>\n",
       "      <td>自動櫃員提款機</td>\n",
       "      <td>局外</td>\n",
       "      <td>0</td>\n",
       "    </tr>\n",
       "    <tr>\n",
       "      <th>1</th>\n",
       "      <td>基隆市</td>\n",
       "      <td>七堵區</td>\n",
       "      <td>NaN</td>\n",
       "      <td>基隆監理站--服務台旁</td>\n",
       "      <td>(02)2421-0148</td>\n",
       "      <td>實踐路296號</td>\n",
       "      <td>121.696388</td>\n",
       "      <td>25.088333</td>\n",
       "      <td>NaN</td>\n",
       "      <td>NaN</td>\n",
       "      <td>自動補摺機</td>\n",
       "      <td>自動櫃員提款機</td>\n",
       "      <td>局外</td>\n",
       "      <td>0</td>\n",
       "    </tr>\n",
       "    <tr>\n",
       "      <th>2</th>\n",
       "      <td>基隆市</td>\n",
       "      <td>七堵區</td>\n",
       "      <td>NaN</td>\n",
       "      <td>陽明海運--會議室旁</td>\n",
       "      <td>(02)2421-0148</td>\n",
       "      <td>明德一路271號</td>\n",
       "      <td>121.711111</td>\n",
       "      <td>25.094444</td>\n",
       "      <td>NaN</td>\n",
       "      <td>NaN</td>\n",
       "      <td>自動補摺機</td>\n",
       "      <td>自動櫃員提款機</td>\n",
       "      <td>局外</td>\n",
       "      <td>0</td>\n",
       "    </tr>\n",
       "  </tbody>\n",
       "</table>\n",
       "</div>"
      ],
      "text/plain": [
       "    0    1    2            3              4         5           6          7   \\\n",
       "0  基隆市  七堵區  NaN    基隆商工--側門旁  (02)2421-0148    東新街22號  121.717500  25.094999   \n",
       "1  基隆市  七堵區  NaN  基隆監理站--服務台旁  (02)2421-0148   實踐路296號  121.696388  25.088333   \n",
       "2  基隆市  七堵區  NaN   陽明海運--會議室旁  (02)2421-0148  明德一路271號  121.711111  25.094444   \n",
       "\n",
       "    8    9      10       11  12  13  \n",
       "0  NaN  NaN  自動補摺機  自動櫃員提款機  局外   0  \n",
       "1  NaN  NaN  自動補摺機  自動櫃員提款機  局外   0  \n",
       "2  NaN  NaN  自動補摺機  自動櫃員提款機  局外   0  "
      ]
     },
     "execution_count": 3,
     "metadata": {},
     "output_type": "execute_result"
    }
   ],
   "source": [
    "df.head(3)"
   ]
  },
  {
   "cell_type": "code",
   "execution_count": 4,
   "metadata": {},
   "outputs": [
    {
     "data": {
      "text/plain": [
       "(2046, 14)"
      ]
     },
     "execution_count": 4,
     "metadata": {},
     "output_type": "execute_result"
    }
   ],
   "source": [
    "df.shape"
   ]
  },
  {
   "cell_type": "code",
   "execution_count": 5,
   "metadata": {},
   "outputs": [
    {
     "data": {
      "text/plain": [
       "0     2046\n",
       "1     2046\n",
       "2     1310\n",
       "3     2046\n",
       "4     2045\n",
       "5     2046\n",
       "6     2046\n",
       "7     2046\n",
       "8     1295\n",
       "9      594\n",
       "10    1556\n",
       "11     736\n",
       "12    2046\n",
       "13    2046\n",
       "dtype: int64"
      ]
     },
     "execution_count": 5,
     "metadata": {},
     "output_type": "execute_result"
    }
   ],
   "source": [
    "df.count()"
   ]
  },
  {
   "cell_type": "code",
   "execution_count": 6,
   "metadata": {},
   "outputs": [
    {
     "data": {
      "text/plain": [
       "0      object\n",
       "1      object\n",
       "2      object\n",
       "3      object\n",
       "4      object\n",
       "5      object\n",
       "6     float64\n",
       "7     float64\n",
       "8      object\n",
       "9      object\n",
       "10     object\n",
       "11     object\n",
       "12     object\n",
       "13      int64\n",
       "dtype: object"
      ]
     },
     "execution_count": 6,
     "metadata": {},
     "output_type": "execute_result"
    }
   ],
   "source": [
    "df.dtypes"
   ]
  },
  {
   "cell_type": "markdown",
   "metadata": {},
   "source": [
    "欄位說明 : 縣市、鄉鎮市區、儲匯局號、局名、聯絡電話、郵局地址、經度、緯度、自動櫃員機、自動櫃員存提款機、 自動補摺機、自動櫃員提款機、是否為局外ATM、縣市排序代號"
   ]
  },
  {
   "cell_type": "code",
   "execution_count": 7,
   "metadata": {},
   "outputs": [
    {
     "data": {
      "text/plain": [
       "Int64Index([0, 1, 2, 3, 4, 5, 6, 7, 8, 9, 10, 11, 12, 13], dtype='int64')"
      ]
     },
     "execution_count": 7,
     "metadata": {},
     "output_type": "execute_result"
    }
   ],
   "source": [
    "df.columns"
   ]
  },
  {
   "cell_type": "code",
   "execution_count": 8,
   "metadata": {
    "collapsed": true
   },
   "outputs": [],
   "source": [
    "city = df.groupby(0).size()"
   ]
  },
  {
   "cell_type": "code",
   "execution_count": 9,
   "metadata": {},
   "outputs": [
    {
     "data": {
      "text/plain": [
       "Index([u'新北市', u'臺北市', u'高雄市'], dtype='object', name=0)"
      ]
     },
     "execution_count": 9,
     "metadata": {},
     "output_type": "execute_result"
    }
   ],
   "source": [
    "city.index[city > 200]"
   ]
  },
  {
   "cell_type": "code",
   "execution_count": 10,
   "metadata": {},
   "outputs": [
    {
     "data": {
      "text/plain": [
       "0\n",
       "新北市    263\n",
       "臺北市    245\n",
       "高雄市    239\n",
       "dtype: int64"
      ]
     },
     "execution_count": 10,
     "metadata": {},
     "output_type": "execute_result"
    }
   ],
   "source": [
    "city[city > 200]"
   ]
  },
  {
   "cell_type": "code",
   "execution_count": 11,
   "metadata": {
    "collapsed": true
   },
   "outputs": [],
   "source": [
    "town = df.groupby(1).size()"
   ]
  },
  {
   "cell_type": "code",
   "execution_count": 12,
   "metadata": {},
   "outputs": [
    {
     "data": {
      "text/plain": [
       "count    355.000000\n",
       "mean       5.763380\n",
       "std        7.939411\n",
       "min        1.000000\n",
       "25%        1.000000\n",
       "50%        3.000000\n",
       "75%        7.000000\n",
       "max       75.000000\n",
       "dtype: float64"
      ]
     },
     "execution_count": 12,
     "metadata": {},
     "output_type": "execute_result"
    }
   ],
   "source": [
    "town.describe()"
   ]
  },
  {
   "cell_type": "code",
   "execution_count": 13,
   "metadata": {},
   "outputs": [
    {
     "data": {
      "text/plain": [
       "1\n",
       "七堵區      8\n",
       "七美鄉      1\n",
       "七股區      2\n",
       "三地門鄉     1\n",
       "三峽區     10\n",
       "dtype: int64"
      ]
     },
     "execution_count": 13,
     "metadata": {},
     "output_type": "execute_result"
    }
   ],
   "source": [
    "town.head()"
   ]
  },
  {
   "cell_type": "code",
   "execution_count": 14,
   "metadata": {},
   "outputs": [
    {
     "data": {
      "text/plain": [
       "<matplotlib.axes._subplots.AxesSubplot at 0x108474d10>"
      ]
     },
     "execution_count": 14,
     "metadata": {},
     "output_type": "execute_result"
    },
    {
     "data": {
      "image/png": "[encoded data removed]",
      "text/plain": [
       "<matplotlib.figure.Figure at 0x1084742d0>"
      ]
     },
     "metadata": {},
     "output_type": "display_data"
    }
   ],
   "source": [
    "town.hist()"
   ]
  },
  {
   "cell_type": "code",
   "execution_count": 15,
   "metadata": {},
   "outputs": [
    {
     "data": {
      "text/plain": [
       "355"
      ]
     },
     "execution_count": 15,
     "metadata": {},
     "output_type": "execute_result"
    }
   ],
   "source": [
    "len(town)"
   ]
  },
  {
   "cell_type": "code",
   "execution_count": 16,
   "metadata": {},
   "outputs": [
    {
     "data": {
      "text/plain": [
       "1\n",
       "中正區    61\n",
       "東區     75\n",
       "dtype: int64"
      ]
     },
     "execution_count": 16,
     "metadata": {},
     "output_type": "execute_result"
    }
   ],
   "source": [
    "town[town > 50]"
   ]
  },
  {
   "cell_type": "code",
   "execution_count": 17,
   "metadata": {},
   "outputs": [
    {
     "data": {
      "text/plain": [
       "366"
      ]
     },
     "execution_count": 17,
     "metadata": {},
     "output_type": "execute_result"
    }
   ],
   "source": [
    "town_n = df.groupby([0, 1]).size()\n",
    "len(town_n)"
   ]
  },
  {
   "cell_type": "code",
   "execution_count": 18,
   "metadata": {},
   "outputs": [
    {
     "data": {
      "text/plain": [
       "0    1  \n",
       "南投縣  中寮鄉     2\n",
       "     仁愛鄉     2\n",
       "     信義鄉     2\n",
       "     南投市    13\n",
       "     名間鄉     4\n",
       "dtype: int64"
      ]
     },
     "execution_count": 18,
     "metadata": {},
     "output_type": "execute_result"
    }
   ],
   "source": [
    "town_n.head()"
   ]
  },
  {
   "cell_type": "code",
   "execution_count": 19,
   "metadata": {},
   "outputs": [
    {
     "data": {
      "text/plain": [
       "<matplotlib.axes._subplots.AxesSubplot at 0x107ce0710>"
      ]
     },
     "execution_count": 19,
     "metadata": {},
     "output_type": "execute_result"
    },
    {
     "data": {
      "image/png": "[encoded data removed]",
      "text/plain": [
       "<matplotlib.figure.Figure at 0x108474a10>"
      ]
     },
     "metadata": {},
     "output_type": "display_data"
    }
   ],
   "source": [
    "town_n.hist()"
   ]
  },
  {
   "cell_type": "code",
   "execution_count": 20,
   "metadata": {},
   "outputs": [
    {
     "data": {
      "text/plain": [
       "0\n",
       "嘉義市    22\n",
       "新竹市    29\n",
       "臺中市     7\n",
       "臺南市    17\n",
       "dtype: int64"
      ]
     },
     "execution_count": 20,
     "metadata": {},
     "output_type": "execute_result"
    }
   ],
   "source": [
    "df[df[1] == '東區'].groupby(0).size()"
   ]
  },
  {
   "cell_type": "code",
   "execution_count": 21,
   "metadata": {},
   "outputs": [
    {
     "data": {
      "text/plain": [
       "0\n",
       "基隆市    14\n",
       "臺北市    47\n",
       "dtype: int64"
      ]
     },
     "execution_count": 21,
     "metadata": {},
     "output_type": "execute_result"
    }
   ],
   "source": [
    "df[df[1] == '中正區'].groupby(0).size()"
   ]
  },
  {
   "cell_type": "code",
   "execution_count": 22,
   "metadata": {},
   "outputs": [
    {
     "data": {
      "text/plain": [
       "array([nan, '\\xe8\\x87\\xaa\\xe5\\x8b\\x95\\xe6\\xab\\x83\\xe5\\x93\\xa1\\xe6\\xa9\\x9f'], dtype=object)"
      ]
     },
     "execution_count": 22,
     "metadata": {},
     "output_type": "execute_result"
    }
   ],
   "source": [
    "'''\n",
    "自動櫃員機(8)、自動櫃員存提款機(9)、 自動補摺機(10)、\n",
    "自動櫃員提款機(11)、是否為局外ATM(12)\n",
    "'''\n",
    "df[8].unique()"
   ]
  },
  {
   "cell_type": "code",
   "execution_count": 23,
   "metadata": {},
   "outputs": [
    {
     "data": {
      "text/plain": [
       "3    0\n",
       "4    0\n",
       "5    1\n",
       "6    1\n",
       "7    1\n",
       "8    0\n",
       "9    1\n",
       "Name: 8, dtype: int64"
      ]
     },
     "execution_count": 23,
     "metadata": {},
     "output_type": "execute_result"
    }
   ],
   "source": [
    "c8 = df[8].unique().tolist()\n",
    "df[8].apply(lambda x:c8.index(x))[3:10]"
   ]
  },
  {
   "cell_type": "code",
   "execution_count": 24,
   "metadata": {},
   "outputs": [
    {
     "data": {
      "text/plain": [
       "3      NaN\n",
       "4      NaN\n",
       "5    自動櫃員機\n",
       "6    自動櫃員機\n",
       "7    自動櫃員機\n",
       "8      NaN\n",
       "9    自動櫃員機\n",
       "Name: 8, dtype: object"
      ]
     },
     "execution_count": 24,
     "metadata": {},
     "output_type": "execute_result"
    }
   ],
   "source": [
    "df[8][3:10]"
   ]
  },
  {
   "cell_type": "code",
   "execution_count": 25,
   "metadata": {
    "collapsed": true
   },
   "outputs": [],
   "source": [
    "legend = []\n",
    "for i in range(8,13):\n",
    "    legend.append(df[i].unique().tolist())"
   ]
  },
  {
   "cell_type": "code",
   "execution_count": 26,
   "metadata": {},
   "outputs": [
    {
     "data": {
      "text/plain": [
       "[[nan, '\\xe8\\x87\\xaa\\xe5\\x8b\\x95\\xe6\\xab\\x83\\xe5\\x93\\xa1\\xe6\\xa9\\x9f'],\n",
       " [nan,\n",
       "  '\\xe8\\x87\\xaa\\xe5\\x8b\\x95\\xe6\\xab\\x83\\xe5\\x93\\xa1\\xe5\\xad\\x98\\xe6\\x8f\\x90\\xe6\\xac\\xbe\\xe6\\xa9\\x9f'],\n",
       " ['\\xe8\\x87\\xaa\\xe5\\x8b\\x95\\xe8\\xa3\\x9c\\xe6\\x91\\xba\\xe6\\xa9\\x9f',\n",
       "  nan,\n",
       "  '\\xe8\\x87\\xaa\\xe5\\x8b\\x95\\xe8\\xa3\\x9c\\xe6\\x91\\xba\\xe6\\xa9\\x9f(\\xe7\\x87\\x9f\\xe6\\xa5\\xad\\xe5\\xbb\\xb3)'],\n",
       " ['\\xe8\\x87\\xaa\\xe5\\x8b\\x95\\xe6\\xab\\x83\\xe5\\x93\\xa1\\xe6\\x8f\\x90\\xe6\\xac\\xbe\\xe6\\xa9\\x9f',\n",
       "  nan],\n",
       " ['\\xe5\\xb1\\x80\\xe5\\xa4\\x96', '\\xe5\\xb1\\x80\\xe5\\x85\\xa7']]"
      ]
     },
     "execution_count": 26,
     "metadata": {},
     "output_type": "execute_result"
    }
   ],
   "source": [
    "legend"
   ]
  },
  {
   "cell_type": "code",
   "execution_count": 27,
   "metadata": {},
   "outputs": [
    {
     "data": {
      "text/plain": [
       "自動補摺機(營業廳)    1114\n",
       "自動補摺機          442\n",
       "Name: 10, dtype: int64"
      ]
     },
     "execution_count": 27,
     "metadata": {},
     "output_type": "execute_result"
    }
   ],
   "source": [
    "df[10].value_counts()"
   ]
  },
  {
   "cell_type": "code",
   "execution_count": 28,
   "metadata": {
    "collapsed": true
   },
   "outputs": [],
   "source": [
    "import geopandas as gpd"
   ]
  },
  {
   "cell_type": "code",
   "execution_count": 29,
   "metadata": {
    "collapsed": true
   },
   "outputs": [],
   "source": [
    "geo = [gpd.geoseries.Point(loc) for loc in zip(df[6], df[7])]"
   ]
  },
  {
   "cell_type": "code",
   "execution_count": 30,
   "metadata": {},
   "outputs": [
    {
     "data": {
      "text/plain": [
       "<matplotlib.axes._subplots.AxesSubplot at 0x10a6791d0>"
      ]
     },
     "execution_count": 30,
     "metadata": {},
     "output_type": "execute_result"
    },
    {
     "data": {
      "image/png": "[encoded data removed]",
      "text/plain": [
       "<matplotlib.figure.Figure at 0x10a57cb10>"
      ]
     },
     "metadata": {},
     "output_type": "display_data"
    }
   ],
   "source": [
    "atm = gpd.GeoDataFrame(df, crs={'init': 'epsg:4326'}, geometry=geo)\n",
    "atm.plot()"
   ]
  },
  {
   "cell_type": "code",
   "execution_count": 31,
   "metadata": {},
   "outputs": [
    {
     "data": {
      "text/html": [
       "<div>\n",
       "<style>\n",
       "    .dataframe thead tr:only-child th {\n",
       "        text-align: right;\n",
       "    }\n",
       "\n",
       "    .dataframe thead th {\n",
       "        text-align: left;\n",
       "    }\n",
       "\n",
       "    .dataframe tbody tr th {\n",
       "        vertical-align: top;\n",
       "    }\n",
       "</style>\n",
       "<table border=\"1\" class=\"dataframe\">\n",
       "  <thead>\n",
       "    <tr style=\"text-align: right;\">\n",
       "      <th></th>\n",
       "      <th>0</th>\n",
       "      <th>1</th>\n",
       "      <th>2</th>\n",
       "      <th>3</th>\n",
       "      <th>4</th>\n",
       "      <th>5</th>\n",
       "      <th>6</th>\n",
       "      <th>7</th>\n",
       "      <th>8</th>\n",
       "      <th>9</th>\n",
       "      <th>10</th>\n",
       "      <th>11</th>\n",
       "      <th>12</th>\n",
       "      <th>13</th>\n",
       "      <th>geometry</th>\n",
       "    </tr>\n",
       "  </thead>\n",
       "  <tbody>\n",
       "    <tr>\n",
       "      <th>0</th>\n",
       "      <td>基隆市</td>\n",
       "      <td>七堵區</td>\n",
       "      <td>NaN</td>\n",
       "      <td>基隆商工--側門旁</td>\n",
       "      <td>(02)2421-0148</td>\n",
       "      <td>東新街22號</td>\n",
       "      <td>121.717500</td>\n",
       "      <td>25.094999</td>\n",
       "      <td>NaN</td>\n",
       "      <td>NaN</td>\n",
       "      <td>自動補摺機</td>\n",
       "      <td>自動櫃員提款機</td>\n",
       "      <td>局外</td>\n",
       "      <td>0</td>\n",
       "      <td>POINT (121.7175 25.094999)</td>\n",
       "    </tr>\n",
       "    <tr>\n",
       "      <th>1</th>\n",
       "      <td>基隆市</td>\n",
       "      <td>七堵區</td>\n",
       "      <td>NaN</td>\n",
       "      <td>基隆監理站--服務台旁</td>\n",
       "      <td>(02)2421-0148</td>\n",
       "      <td>實踐路296號</td>\n",
       "      <td>121.696388</td>\n",
       "      <td>25.088333</td>\n",
       "      <td>NaN</td>\n",
       "      <td>NaN</td>\n",
       "      <td>自動補摺機</td>\n",
       "      <td>自動櫃員提款機</td>\n",
       "      <td>局外</td>\n",
       "      <td>0</td>\n",
       "      <td>POINT (121.696388 25.088333)</td>\n",
       "    </tr>\n",
       "    <tr>\n",
       "      <th>2</th>\n",
       "      <td>基隆市</td>\n",
       "      <td>七堵區</td>\n",
       "      <td>NaN</td>\n",
       "      <td>陽明海運--會議室旁</td>\n",
       "      <td>(02)2421-0148</td>\n",
       "      <td>明德一路271號</td>\n",
       "      <td>121.711111</td>\n",
       "      <td>25.094444</td>\n",
       "      <td>NaN</td>\n",
       "      <td>NaN</td>\n",
       "      <td>自動補摺機</td>\n",
       "      <td>自動櫃員提款機</td>\n",
       "      <td>局外</td>\n",
       "      <td>0</td>\n",
       "      <td>POINT (121.711111 25.094444)</td>\n",
       "    </tr>\n",
       "    <tr>\n",
       "      <th>3</th>\n",
       "      <td>基隆市</td>\n",
       "      <td>七堵區</td>\n",
       "      <td>NaN</td>\n",
       "      <td>臺灣鐵路局七堵機務段--室內</td>\n",
       "      <td>(02)2421-0148</td>\n",
       "      <td>崇禮街1-4號</td>\n",
       "      <td>121.715555</td>\n",
       "      <td>25.096111</td>\n",
       "      <td>NaN</td>\n",
       "      <td>NaN</td>\n",
       "      <td>自動補摺機</td>\n",
       "      <td>自動櫃員提款機</td>\n",
       "      <td>局外</td>\n",
       "      <td>0</td>\n",
       "      <td>POINT (121.715555 25.096111)</td>\n",
       "    </tr>\n",
       "    <tr>\n",
       "      <th>4</th>\n",
       "      <td>基隆市</td>\n",
       "      <td>七堵區</td>\n",
       "      <td>NaN</td>\n",
       "      <td>麗景天下社區--社區警衛室旁</td>\n",
       "      <td>(02)2421-0148</td>\n",
       "      <td>麗景一街2號</td>\n",
       "      <td>121.672499</td>\n",
       "      <td>25.086111</td>\n",
       "      <td>NaN</td>\n",
       "      <td>NaN</td>\n",
       "      <td>NaN</td>\n",
       "      <td>自動櫃員提款機</td>\n",
       "      <td>局外</td>\n",
       "      <td>0</td>\n",
       "      <td>POINT (121.672499 25.086111)</td>\n",
       "    </tr>\n",
       "  </tbody>\n",
       "</table>\n",
       "</div>"
      ],
      "text/plain": [
       "     0    1    2               3              4         5           6  \\\n",
       "0  基隆市  七堵區  NaN       基隆商工--側門旁  (02)2421-0148    東新街22號  121.717500   \n",
       "1  基隆市  七堵區  NaN     基隆監理站--服務台旁  (02)2421-0148   實踐路296號  121.696388   \n",
       "2  基隆市  七堵區  NaN      陽明海運--會議室旁  (02)2421-0148  明德一路271號  121.711111   \n",
       "3  基隆市  七堵區  NaN  臺灣鐵路局七堵機務段--室內  (02)2421-0148   崇禮街1-4號  121.715555   \n",
       "4  基隆市  七堵區  NaN  麗景天下社區--社區警衛室旁  (02)2421-0148    麗景一街2號  121.672499   \n",
       "\n",
       "           7    8    9     10       11  12  13                      geometry  \n",
       "0  25.094999  NaN  NaN  自動補摺機  自動櫃員提款機  局外   0    POINT (121.7175 25.094999)  \n",
       "1  25.088333  NaN  NaN  自動補摺機  自動櫃員提款機  局外   0  POINT (121.696388 25.088333)  \n",
       "2  25.094444  NaN  NaN  自動補摺機  自動櫃員提款機  局外   0  POINT (121.711111 25.094444)  \n",
       "3  25.096111  NaN  NaN  自動補摺機  自動櫃員提款機  局外   0  POINT (121.715555 25.096111)  \n",
       "4  25.086111  NaN  NaN    NaN  自動櫃員提款機  局外   0  POINT (121.672499 25.086111)  "
      ]
     },
     "execution_count": 31,
     "metadata": {},
     "output_type": "execute_result"
    }
   ],
   "source": [
    "atm.head()"
   ]
  },
  {
   "cell_type": "code",
   "execution_count": 32,
   "metadata": {
    "collapsed": true
   },
   "outputs": [],
   "source": [
    "# boundary info, https://epsg.io/3824\n",
    "boundary = gpd.GeoSeries([gpd.geoseries.Polygon(\n",
    "    [(114.32, 17.36), (114.32,26.96), (123.61, 26.96), (123.61,17.36)])]\n",
    ")"
   ]
  },
  {
   "cell_type": "code",
   "execution_count": 33,
   "metadata": {},
   "outputs": [
    {
     "data": {
      "text/plain": [
       "<matplotlib.axes._subplots.AxesSubplot at 0x10d23e710>"
      ]
     },
     "execution_count": 33,
     "metadata": {},
     "output_type": "execute_result"
    },
    {
     "data": {
      "image/png": "[encoded data removed]",
      "text/plain": [
       "<matplotlib.figure.Figure at 0x10d23e990>"
      ]
     },
     "metadata": {},
     "output_type": "display_data"
    }
   ],
   "source": [
    "boundary.plot()"
   ]
  },
  {
   "cell_type": "code",
   "execution_count": 34,
   "metadata": {
    "collapsed": true
   },
   "outputs": [],
   "source": [
    "atmList = gpd.GeoSeries(geo)"
   ]
  },
  {
   "cell_type": "code",
   "execution_count": 35,
   "metadata": {
    "collapsed": true
   },
   "outputs": [],
   "source": [
    "atmList = atmList.apply(lambda x: gpd.GeoSeries([\n",
    "    gpd.geoseries.Polygon([(114.32, 17.36), (114.32,26.96), (123.61, 26.96), (123.61,17.36)])\n",
    "]).contains(x))"
   ]
  },
  {
   "cell_type": "code",
   "execution_count": 36,
   "metadata": {},
   "outputs": [
    {
     "data": {
      "text/plain": [
       "2046"
      ]
     },
     "execution_count": 36,
     "metadata": {},
     "output_type": "execute_result"
    }
   ],
   "source": [
    "len(atmList)"
   ]
  },
  {
   "cell_type": "code",
   "execution_count": 37,
   "metadata": {},
   "outputs": [
    {
     "data": {
      "text/html": [
       "<div>\n",
       "<style>\n",
       "    .dataframe thead tr:only-child th {\n",
       "        text-align: right;\n",
       "    }\n",
       "\n",
       "    .dataframe thead th {\n",
       "        text-align: left;\n",
       "    }\n",
       "\n",
       "    .dataframe tbody tr th {\n",
       "        vertical-align: top;\n",
       "    }\n",
       "</style>\n",
       "<table border=\"1\" class=\"dataframe\">\n",
       "  <thead>\n",
       "    <tr style=\"text-align: right;\">\n",
       "      <th></th>\n",
       "      <th>0</th>\n",
       "    </tr>\n",
       "  </thead>\n",
       "  <tbody>\n",
       "    <tr>\n",
       "      <th>0</th>\n",
       "      <td>True</td>\n",
       "    </tr>\n",
       "    <tr>\n",
       "      <th>1</th>\n",
       "      <td>True</td>\n",
       "    </tr>\n",
       "    <tr>\n",
       "      <th>2</th>\n",
       "      <td>True</td>\n",
       "    </tr>\n",
       "    <tr>\n",
       "      <th>3</th>\n",
       "      <td>True</td>\n",
       "    </tr>\n",
       "    <tr>\n",
       "      <th>4</th>\n",
       "      <td>True</td>\n",
       "    </tr>\n",
       "  </tbody>\n",
       "</table>\n",
       "</div>"
      ],
      "text/plain": [
       "      0\n",
       "0  True\n",
       "1  True\n",
       "2  True\n",
       "3  True\n",
       "4  True"
      ]
     },
     "execution_count": 37,
     "metadata": {},
     "output_type": "execute_result"
    }
   ],
   "source": [
    "atmList.head()"
   ]
  },
  {
   "cell_type": "code",
   "execution_count": 38,
   "metadata": {},
   "outputs": [
    {
     "data": {
      "text/plain": [
       "<matplotlib.axes._subplots.AxesSubplot at 0x10d82ff10>"
      ]
     },
     "execution_count": 38,
     "metadata": {},
     "output_type": "execute_result"
    },
    {
     "data": {
      "image/png": "[encoded data removed]",
      "text/plain": [
       "<matplotlib.figure.Figure at 0x10d33bb90>"
      ]
     },
     "metadata": {},
     "output_type": "display_data"
    }
   ],
   "source": [
    "atm[atmList[0].tolist()].plot()"
   ]
  },
  {
   "cell_type": "code",
   "execution_count": 39,
   "metadata": {},
   "outputs": [
    {
     "data": {
      "text/plain": [
       "2043"
      ]
     },
     "execution_count": 39,
     "metadata": {},
     "output_type": "execute_result"
    }
   ],
   "source": [
    "atm = atm[atmList[0].tolist()]\n",
    "len(atm)"
   ]
  },
  {
   "cell_type": "markdown",
   "metadata": {
    "collapsed": true
   },
   "source": [
    "資料來源 : [https://data.gov.tw/dataset/7441](https://data.gov.tw/dataset/7441)\n",
    "\n",
    "資料名稱 : 鄉鎮市區界線(TWD97經緯度)"
   ]
  },
  {
   "cell_type": "code",
   "execution_count": 40,
   "metadata": {
    "collapsed": true
   },
   "outputs": [],
   "source": [
    "shp = gpd.read_file('TOWN_MOI_1060601/TOWN_MOI_1060525.shp')"
   ]
  },
  {
   "cell_type": "code",
   "execution_count": 41,
   "metadata": {},
   "outputs": [
    {
     "data": {
      "text/html": [
       "<div>\n",
       "<style>\n",
       "    .dataframe thead tr:only-child th {\n",
       "        text-align: right;\n",
       "    }\n",
       "\n",
       "    .dataframe thead th {\n",
       "        text-align: left;\n",
       "    }\n",
       "\n",
       "    .dataframe tbody tr th {\n",
       "        vertical-align: top;\n",
       "    }\n",
       "</style>\n",
       "<table border=\"1\" class=\"dataframe\">\n",
       "  <thead>\n",
       "    <tr style=\"text-align: right;\">\n",
       "      <th></th>\n",
       "      <th>COUNTYCODE</th>\n",
       "      <th>COUNTYID</th>\n",
       "      <th>COUNTYNAME</th>\n",
       "      <th>TOWNCODE</th>\n",
       "      <th>TOWNENG</th>\n",
       "      <th>TOWNID</th>\n",
       "      <th>TOWNNAME</th>\n",
       "      <th>geometry</th>\n",
       "    </tr>\n",
       "  </thead>\n",
       "  <tbody>\n",
       "    <tr>\n",
       "      <th>0</th>\n",
       "      <td>10014</td>\n",
       "      <td>V</td>\n",
       "      <td>臺東縣</td>\n",
       "      <td>10014020</td>\n",
       "      <td>Chenggong Township</td>\n",
       "      <td>V02</td>\n",
       "      <td>成功鎮</td>\n",
       "      <td>POLYGON ((121.409815737 23.21369278500009, 121...</td>\n",
       "    </tr>\n",
       "    <tr>\n",
       "      <th>1</th>\n",
       "      <td>10013</td>\n",
       "      <td>T</td>\n",
       "      <td>屏東縣</td>\n",
       "      <td>10013210</td>\n",
       "      <td>Jiadong Township</td>\n",
       "      <td>T21</td>\n",
       "      <td>佳冬鄉</td>\n",
       "      <td>POLYGON ((120.5484580210001 22.46067220300006,...</td>\n",
       "    </tr>\n",
       "    <tr>\n",
       "      <th>2</th>\n",
       "      <td>10009</td>\n",
       "      <td>P</td>\n",
       "      <td>雲林縣</td>\n",
       "      <td>10009130</td>\n",
       "      <td>Mailiao Township</td>\n",
       "      <td>P13</td>\n",
       "      <td>麥寮鄉</td>\n",
       "      <td>POLYGON ((120.3019750420001 23.81624614400005,...</td>\n",
       "    </tr>\n",
       "    <tr>\n",
       "      <th>3</th>\n",
       "      <td>10014</td>\n",
       "      <td>V</td>\n",
       "      <td>臺東縣</td>\n",
       "      <td>10014110</td>\n",
       "      <td>Lvdao Township</td>\n",
       "      <td>V11</td>\n",
       "      <td>綠島鄉</td>\n",
       "      <td>(POLYGON ((121.491547243 22.67745703900005, 12...</td>\n",
       "    </tr>\n",
       "    <tr>\n",
       "      <th>4</th>\n",
       "      <td>10014</td>\n",
       "      <td>V</td>\n",
       "      <td>臺東縣</td>\n",
       "      <td>10014160</td>\n",
       "      <td>Lanyu Township</td>\n",
       "      <td>V16</td>\n",
       "      <td>蘭嶼鄉</td>\n",
       "      <td>(POLYGON ((121.6117956420001 21.94289657000007...</td>\n",
       "    </tr>\n",
       "  </tbody>\n",
       "</table>\n",
       "</div>"
      ],
      "text/plain": [
       "  COUNTYCODE COUNTYID COUNTYNAME  TOWNCODE             TOWNENG TOWNID  \\\n",
       "0      10014        V        臺東縣  10014020  Chenggong Township    V02   \n",
       "1      10013        T        屏東縣  10013210    Jiadong Township    T21   \n",
       "2      10009        P        雲林縣  10009130    Mailiao Township    P13   \n",
       "3      10014        V        臺東縣  10014110      Lvdao Township    V11   \n",
       "4      10014        V        臺東縣  10014160      Lanyu Township    V16   \n",
       "\n",
       "  TOWNNAME                                           geometry  \n",
       "0      成功鎮  POLYGON ((121.409815737 23.21369278500009, 121...  \n",
       "1      佳冬鄉  POLYGON ((120.5484580210001 22.46067220300006,...  \n",
       "2      麥寮鄉  POLYGON ((120.3019750420001 23.81624614400005,...  \n",
       "3      綠島鄉  (POLYGON ((121.491547243 22.67745703900005, 12...  \n",
       "4      蘭嶼鄉  (POLYGON ((121.6117956420001 21.94289657000007...  "
      ]
     },
     "execution_count": 41,
     "metadata": {},
     "output_type": "execute_result"
    }
   ],
   "source": [
    "shp.head()"
   ]
  },
  {
   "cell_type": "code",
   "execution_count": 42,
   "metadata": {},
   "outputs": [
    {
     "data": {
      "text/plain": [
       "<matplotlib.axes._subplots.AxesSubplot at 0x110144090>"
      ]
     },
     "execution_count": 42,
     "metadata": {},
     "output_type": "execute_result"
    },
    {
     "data": {
      "image/png": "[encoded data removed]",
      "text/plain": [
       "<matplotlib.figure.Figure at 0x110090f50>"
      ]
     },
     "metadata": {},
     "output_type": "display_data"
    }
   ],
   "source": [
    "shp.plot()"
   ]
  },
  {
   "cell_type": "code",
   "execution_count": 43,
   "metadata": {},
   "outputs": [
    {
     "data": {
      "text/plain": [
       "{u'ellps': u'GRS80', u'no_defs': True, u'proj': u'longlat'}"
      ]
     },
     "execution_count": 43,
     "metadata": {},
     "output_type": "execute_result"
    }
   ],
   "source": [
    "shp.crs"
   ]
  },
  {
   "cell_type": "code",
   "execution_count": 44,
   "metadata": {},
   "outputs": [
    {
     "data": {
      "text/plain": [
       "357"
      ]
     },
     "execution_count": 44,
     "metadata": {},
     "output_type": "execute_result"
    }
   ],
   "source": [
    "len(shp.TOWNNAME.unique())"
   ]
  },
  {
   "cell_type": "code",
   "execution_count": 45,
   "metadata": {},
   "outputs": [
    {
     "data": {
      "text/plain": [
       "<matplotlib.axes._subplots.AxesSubplot at 0x1131dba10>"
      ]
     },
     "execution_count": 45,
     "metadata": {},
     "output_type": "execute_result"
    },
    {
     "data": {
      "image/png": "[encoded data removed]",
      "text/plain": [
       "<matplotlib.figure.Figure at 0x1100a0510>"
      ]
     },
     "metadata": {},
     "output_type": "display_data"
    }
   ],
   "source": [
    "dis_shp = shp.dissolve(by='COUNTYNAME')\n",
    "dis_shp.plot()"
   ]
  },
  {
   "cell_type": "code",
   "execution_count": 46,
   "metadata": {
    "collapsed": true
   },
   "outputs": [],
   "source": [
    "dis_shp.crs = {'init': 'epsg:3824'}"
   ]
  },
  {
   "cell_type": "code",
   "execution_count": 47,
   "metadata": {},
   "outputs": [
    {
     "data": {
      "text/html": [
       "<div>\n",
       "<style>\n",
       "    .dataframe thead tr:only-child th {\n",
       "        text-align: right;\n",
       "    }\n",
       "\n",
       "    .dataframe thead th {\n",
       "        text-align: left;\n",
       "    }\n",
       "\n",
       "    .dataframe tbody tr th {\n",
       "        vertical-align: top;\n",
       "    }\n",
       "</style>\n",
       "<table border=\"1\" class=\"dataframe\">\n",
       "  <thead>\n",
       "    <tr style=\"text-align: right;\">\n",
       "      <th></th>\n",
       "      <th>geometry</th>\n",
       "      <th>COUNTYCODE</th>\n",
       "      <th>COUNTYID</th>\n",
       "      <th>TOWNCODE</th>\n",
       "      <th>TOWNENG</th>\n",
       "      <th>TOWNID</th>\n",
       "      <th>TOWNNAME</th>\n",
       "    </tr>\n",
       "    <tr>\n",
       "      <th>COUNTYNAME</th>\n",
       "      <th></th>\n",
       "      <th></th>\n",
       "      <th></th>\n",
       "      <th></th>\n",
       "      <th></th>\n",
       "      <th></th>\n",
       "      <th></th>\n",
       "    </tr>\n",
       "  </thead>\n",
       "  <tbody>\n",
       "    <tr>\n",
       "      <th>南投縣</th>\n",
       "      <td>POLYGON ((121.2349134150001 23.81811208100004,...</td>\n",
       "      <td>10008</td>\n",
       "      <td>M</td>\n",
       "      <td>10008010</td>\n",
       "      <td>Nantou City</td>\n",
       "      <td>M01</td>\n",
       "      <td>南投市</td>\n",
       "    </tr>\n",
       "  </tbody>\n",
       "</table>\n",
       "</div>"
      ],
      "text/plain": [
       "                                                     geometry COUNTYCODE  \\\n",
       "COUNTYNAME                                                                 \n",
       "南投縣         POLYGON ((121.2349134150001 23.81811208100004,...      10008   \n",
       "\n",
       "           COUNTYID  TOWNCODE      TOWNENG TOWNID TOWNNAME  \n",
       "COUNTYNAME                                                  \n",
       "南投縣               M  10008010  Nantou City    M01      南投市  "
      ]
     },
     "execution_count": 47,
     "metadata": {},
     "output_type": "execute_result"
    }
   ],
   "source": [
    "dis_shp.head(1)"
   ]
  },
  {
   "cell_type": "code",
   "execution_count": 48,
   "metadata": {},
   "outputs": [
    {
     "data": {
      "text/html": [
       "<div>\n",
       "<style>\n",
       "    .dataframe thead tr:only-child th {\n",
       "        text-align: right;\n",
       "    }\n",
       "\n",
       "    .dataframe thead th {\n",
       "        text-align: left;\n",
       "    }\n",
       "\n",
       "    .dataframe tbody tr th {\n",
       "        vertical-align: top;\n",
       "    }\n",
       "</style>\n",
       "<table border=\"1\" class=\"dataframe\">\n",
       "  <thead>\n",
       "    <tr style=\"text-align: right;\">\n",
       "      <th></th>\n",
       "      <th>geometry</th>\n",
       "      <th>COUNTYCODE</th>\n",
       "      <th>COUNTYID</th>\n",
       "      <th>TOWNCODE</th>\n",
       "      <th>TOWNENG</th>\n",
       "      <th>TOWNID</th>\n",
       "      <th>TOWNNAME</th>\n",
       "    </tr>\n",
       "    <tr>\n",
       "      <th>COUNTYNAME</th>\n",
       "      <th></th>\n",
       "      <th></th>\n",
       "      <th></th>\n",
       "      <th></th>\n",
       "      <th></th>\n",
       "      <th></th>\n",
       "      <th></th>\n",
       "    </tr>\n",
       "  </thead>\n",
       "  <tbody>\n",
       "    <tr>\n",
       "      <th>南投縣</th>\n",
       "      <td>POLYGON ((273933.98386178 2634899.610075876, 2...</td>\n",
       "      <td>10008</td>\n",
       "      <td>M</td>\n",
       "      <td>10008010</td>\n",
       "      <td>Nantou City</td>\n",
       "      <td>M01</td>\n",
       "      <td>南投市</td>\n",
       "    </tr>\n",
       "  </tbody>\n",
       "</table>\n",
       "</div>"
      ],
      "text/plain": [
       "                                                     geometry COUNTYCODE  \\\n",
       "COUNTYNAME                                                                 \n",
       "南投縣         POLYGON ((273933.98386178 2634899.610075876, 2...      10008   \n",
       "\n",
       "           COUNTYID  TOWNCODE      TOWNENG TOWNID TOWNNAME  \n",
       "COUNTYNAME                                                  \n",
       "南投縣               M  10008010  Nantou City    M01      南投市  "
      ]
     },
     "execution_count": 48,
     "metadata": {},
     "output_type": "execute_result"
    }
   ],
   "source": [
    "dis_shp = dis_shp.to_crs({'init': 'epsg:3826'})\n",
    "dis_shp.head(1)"
   ]
  },
  {
   "cell_type": "code",
   "execution_count": 49,
   "metadata": {
    "collapsed": true
   },
   "outputs": [],
   "source": [
    "select = shp[shp['COUNTYNAME'] == u'臺東縣']"
   ]
  },
  {
   "cell_type": "code",
   "execution_count": 51,
   "metadata": {
    "collapsed": true
   },
   "outputs": [],
   "source": [
    "select.to_file('select.shp')"
   ]
  },
  {
   "cell_type": "code",
   "execution_count": 52,
   "metadata": {},
   "outputs": [
    {
     "data": {
      "text/html": [
       "<div>\n",
       "<style>\n",
       "    .dataframe thead tr:only-child th {\n",
       "        text-align: right;\n",
       "    }\n",
       "\n",
       "    .dataframe thead th {\n",
       "        text-align: left;\n",
       "    }\n",
       "\n",
       "    .dataframe tbody tr th {\n",
       "        vertical-align: top;\n",
       "    }\n",
       "</style>\n",
       "<table border=\"1\" class=\"dataframe\">\n",
       "  <thead>\n",
       "    <tr style=\"text-align: right;\">\n",
       "      <th></th>\n",
       "      <th>COUNTYCODE</th>\n",
       "      <th>COUNTYID</th>\n",
       "      <th>COUNTYNAME</th>\n",
       "      <th>TOWNCODE</th>\n",
       "      <th>TOWNENG</th>\n",
       "      <th>TOWNID</th>\n",
       "      <th>TOWNNAME</th>\n",
       "      <th>geometry</th>\n",
       "    </tr>\n",
       "  </thead>\n",
       "  <tbody>\n",
       "    <tr>\n",
       "      <th>0</th>\n",
       "      <td>10014</td>\n",
       "      <td>V</td>\n",
       "      <td>臺東縣</td>\n",
       "      <td>10014020</td>\n",
       "      <td>Chenggong Township</td>\n",
       "      <td>V02</td>\n",
       "      <td>成功鎮</td>\n",
       "      <td>POLYGON ((121.409815737 23.21369278500009, 121...</td>\n",
       "    </tr>\n",
       "    <tr>\n",
       "      <th>3</th>\n",
       "      <td>10014</td>\n",
       "      <td>V</td>\n",
       "      <td>臺東縣</td>\n",
       "      <td>10014110</td>\n",
       "      <td>Lvdao Township</td>\n",
       "      <td>V11</td>\n",
       "      <td>綠島鄉</td>\n",
       "      <td>(POLYGON ((121.491547243 22.67745703900005, 12...</td>\n",
       "    </tr>\n",
       "    <tr>\n",
       "      <th>4</th>\n",
       "      <td>10014</td>\n",
       "      <td>V</td>\n",
       "      <td>臺東縣</td>\n",
       "      <td>10014160</td>\n",
       "      <td>Lanyu Township</td>\n",
       "      <td>V16</td>\n",
       "      <td>蘭嶼鄉</td>\n",
       "      <td>(POLYGON ((121.6117956420001 21.94289657000007...</td>\n",
       "    </tr>\n",
       "    <tr>\n",
       "      <th>140</th>\n",
       "      <td>10014</td>\n",
       "      <td>V</td>\n",
       "      <td>臺東縣</td>\n",
       "      <td>10014030</td>\n",
       "      <td>Guanshan Township</td>\n",
       "      <td>V03</td>\n",
       "      <td>關山鎮</td>\n",
       "      <td>POLYGON ((121.225599643 23.02632788100004, 121...</td>\n",
       "    </tr>\n",
       "    <tr>\n",
       "      <th>141</th>\n",
       "      <td>10014</td>\n",
       "      <td>V</td>\n",
       "      <td>臺東縣</td>\n",
       "      <td>10014050</td>\n",
       "      <td>Luye Township</td>\n",
       "      <td>V09</td>\n",
       "      <td>鹿野鄉</td>\n",
       "      <td>POLYGON ((121.1941896770001 22.93666974800004,...</td>\n",
       "    </tr>\n",
       "  </tbody>\n",
       "</table>\n",
       "</div>"
      ],
      "text/plain": [
       "    COUNTYCODE COUNTYID COUNTYNAME  TOWNCODE             TOWNENG TOWNID  \\\n",
       "0        10014        V        臺東縣  10014020  Chenggong Township    V02   \n",
       "3        10014        V        臺東縣  10014110      Lvdao Township    V11   \n",
       "4        10014        V        臺東縣  10014160      Lanyu Township    V16   \n",
       "140      10014        V        臺東縣  10014030   Guanshan Township    V03   \n",
       "141      10014        V        臺東縣  10014050       Luye Township    V09   \n",
       "\n",
       "    TOWNNAME                                           geometry  \n",
       "0        成功鎮  POLYGON ((121.409815737 23.21369278500009, 121...  \n",
       "3        綠島鄉  (POLYGON ((121.491547243 22.67745703900005, 12...  \n",
       "4        蘭嶼鄉  (POLYGON ((121.6117956420001 21.94289657000007...  \n",
       "140      關山鎮  POLYGON ((121.225599643 23.02632788100004, 121...  \n",
       "141      鹿野鄉  POLYGON ((121.1941896770001 22.93666974800004,...  "
      ]
     },
     "execution_count": 52,
     "metadata": {},
     "output_type": "execute_result"
    }
   ],
   "source": [
    "select.head()"
   ]
  },
  {
   "cell_type": "code",
   "execution_count": 54,
   "metadata": {
    "collapsed": true
   },
   "outputs": [],
   "source": [
    "select_shp = gpd.read_file('select.shp')"
   ]
  },
  {
   "cell_type": "code",
   "execution_count": 55,
   "metadata": {},
   "outputs": [
    {
     "data": {
      "text/plain": [
       "<matplotlib.axes._subplots.AxesSubplot at 0x116727c10>"
      ]
     },
     "execution_count": 55,
     "metadata": {},
     "output_type": "execute_result"
    },
    {
     "data": {
      "image/png": "[encoded data removed]",
      "text/plain": [
       "<matplotlib.figure.Figure at 0x10fb0ca10>"
      ]
     },
     "metadata": {},
     "output_type": "display_data"
    }
   ],
   "source": [
    "select_shp.plot()"
   ]
  },
  {
   "cell_type": "code",
   "execution_count": 56,
   "metadata": {},
   "outputs": [
    {
     "name": "stdout",
     "output_type": "stream",
     "text": [
      "0, 0.0129002971037\n",
      "3, 0.00125219634384\n",
      "4, 0.00413653736142\n",
      "140, 0.00531751052239\n",
      "141, 0.00702304010398\n",
      "142, 0.00698394983823\n",
      "143, 0.0787322045915\n",
      "144, 0.0423121498512\n",
      "171, 0.0340064470895\n",
      "195, 0.00993751576846\n",
      "196, 0.0374352438727\n",
      "197, 0.0190654849321\n",
      "198, 0.0133070091913\n",
      "199, 0.00912149782678\n",
      "200, 0.0053735830023\n",
      "201, 0.0283233710522\n"
     ]
    }
   ],
   "source": [
    "for i, r in select.iterrows():\n",
    "    print(\"{0}, {1}\".format(i, r['geometry'].area))"
   ]
  },
  {
   "cell_type": "code",
   "execution_count": 57,
   "metadata": {},
   "outputs": [
    {
     "data": {
      "text/html": [
       "<div>\n",
       "<style>\n",
       "    .dataframe thead tr:only-child th {\n",
       "        text-align: right;\n",
       "    }\n",
       "\n",
       "    .dataframe thead th {\n",
       "        text-align: left;\n",
       "    }\n",
       "\n",
       "    .dataframe tbody tr th {\n",
       "        vertical-align: top;\n",
       "    }\n",
       "</style>\n",
       "<table border=\"1\" class=\"dataframe\">\n",
       "  <thead>\n",
       "    <tr style=\"text-align: right;\">\n",
       "      <th></th>\n",
       "      <th>COUNTYCODE</th>\n",
       "      <th>COUNTYID</th>\n",
       "      <th>COUNTYNAME</th>\n",
       "      <th>TOWNCODE</th>\n",
       "      <th>TOWNENG</th>\n",
       "      <th>TOWNID</th>\n",
       "      <th>TOWNNAME</th>\n",
       "      <th>geometry</th>\n",
       "    </tr>\n",
       "  </thead>\n",
       "  <tbody>\n",
       "    <tr>\n",
       "      <th>0</th>\n",
       "      <td>10014</td>\n",
       "      <td>V</td>\n",
       "      <td>???</td>\n",
       "      <td>10014020</td>\n",
       "      <td>Chenggong Township</td>\n",
       "      <td>V02</td>\n",
       "      <td>???</td>\n",
       "      <td>POLYGON ((121.409815737 23.21369278500009, 121...</td>\n",
       "    </tr>\n",
       "    <tr>\n",
       "      <th>1</th>\n",
       "      <td>10014</td>\n",
       "      <td>V</td>\n",
       "      <td>???</td>\n",
       "      <td>10014110</td>\n",
       "      <td>Lvdao Township</td>\n",
       "      <td>V11</td>\n",
       "      <td>???</td>\n",
       "      <td>(POLYGON ((121.491547243 22.67745703900005, 12...</td>\n",
       "    </tr>\n",
       "    <tr>\n",
       "      <th>2</th>\n",
       "      <td>10014</td>\n",
       "      <td>V</td>\n",
       "      <td>???</td>\n",
       "      <td>10014160</td>\n",
       "      <td>Lanyu Township</td>\n",
       "      <td>V16</td>\n",
       "      <td>???</td>\n",
       "      <td>(POLYGON ((121.6117956420001 21.94289657000007...</td>\n",
       "    </tr>\n",
       "    <tr>\n",
       "      <th>3</th>\n",
       "      <td>10014</td>\n",
       "      <td>V</td>\n",
       "      <td>???</td>\n",
       "      <td>10014030</td>\n",
       "      <td>Guanshan Township</td>\n",
       "      <td>V03</td>\n",
       "      <td>???</td>\n",
       "      <td>POLYGON ((121.225599643 23.02632788100004, 121...</td>\n",
       "    </tr>\n",
       "    <tr>\n",
       "      <th>4</th>\n",
       "      <td>10014</td>\n",
       "      <td>V</td>\n",
       "      <td>???</td>\n",
       "      <td>10014050</td>\n",
       "      <td>Luye Township</td>\n",
       "      <td>V09</td>\n",
       "      <td>???</td>\n",
       "      <td>POLYGON ((121.1941896770001 22.93666974800004,...</td>\n",
       "    </tr>\n",
       "  </tbody>\n",
       "</table>\n",
       "</div>"
      ],
      "text/plain": [
       "  COUNTYCODE COUNTYID COUNTYNAME  TOWNCODE             TOWNENG TOWNID  \\\n",
       "0      10014        V        ???  10014020  Chenggong Township    V02   \n",
       "1      10014        V        ???  10014110      Lvdao Township    V11   \n",
       "2      10014        V        ???  10014160      Lanyu Township    V16   \n",
       "3      10014        V        ???  10014030   Guanshan Township    V03   \n",
       "4      10014        V        ???  10014050       Luye Township    V09   \n",
       "\n",
       "  TOWNNAME                                           geometry  \n",
       "0      ???  POLYGON ((121.409815737 23.21369278500009, 121...  \n",
       "1      ???  (POLYGON ((121.491547243 22.67745703900005, 12...  \n",
       "2      ???  (POLYGON ((121.6117956420001 21.94289657000007...  \n",
       "3      ???  POLYGON ((121.225599643 23.02632788100004, 121...  \n",
       "4      ???  POLYGON ((121.1941896770001 22.93666974800004,...  "
      ]
     },
     "execution_count": 57,
     "metadata": {},
     "output_type": "execute_result"
    }
   ],
   "source": [
    "select_shp.head()"
   ]
  },
  {
   "cell_type": "code",
   "execution_count": 58,
   "metadata": {},
   "outputs": [
    {
     "data": {
      "text/html": [
       "<div>\n",
       "<style>\n",
       "    .dataframe thead tr:only-child th {\n",
       "        text-align: right;\n",
       "    }\n",
       "\n",
       "    .dataframe thead th {\n",
       "        text-align: left;\n",
       "    }\n",
       "\n",
       "    .dataframe tbody tr th {\n",
       "        vertical-align: top;\n",
       "    }\n",
       "</style>\n",
       "<table border=\"1\" class=\"dataframe\">\n",
       "  <thead>\n",
       "    <tr style=\"text-align: right;\">\n",
       "      <th></th>\n",
       "      <th>COUNTYCODE</th>\n",
       "      <th>COUNTYID</th>\n",
       "      <th>COUNTYNAME</th>\n",
       "      <th>TOWNCODE</th>\n",
       "      <th>TOWNENG</th>\n",
       "      <th>TOWNID</th>\n",
       "      <th>TOWNNAME</th>\n",
       "      <th>geometry</th>\n",
       "    </tr>\n",
       "  </thead>\n",
       "  <tbody>\n",
       "    <tr>\n",
       "      <th>0</th>\n",
       "      <td>10014</td>\n",
       "      <td>V</td>\n",
       "      <td>臺東縣</td>\n",
       "      <td>10014020</td>\n",
       "      <td>Chenggong Township</td>\n",
       "      <td>V02</td>\n",
       "      <td>成功鎮</td>\n",
       "      <td>POLYGON ((121.409815737 23.21369278500009, 121...</td>\n",
       "    </tr>\n",
       "    <tr>\n",
       "      <th>3</th>\n",
       "      <td>10014</td>\n",
       "      <td>V</td>\n",
       "      <td>臺東縣</td>\n",
       "      <td>10014110</td>\n",
       "      <td>Lvdao Township</td>\n",
       "      <td>V11</td>\n",
       "      <td>綠島鄉</td>\n",
       "      <td>(POLYGON ((121.491547243 22.67745703900005, 12...</td>\n",
       "    </tr>\n",
       "    <tr>\n",
       "      <th>4</th>\n",
       "      <td>10014</td>\n",
       "      <td>V</td>\n",
       "      <td>臺東縣</td>\n",
       "      <td>10014160</td>\n",
       "      <td>Lanyu Township</td>\n",
       "      <td>V16</td>\n",
       "      <td>蘭嶼鄉</td>\n",
       "      <td>(POLYGON ((121.6117956420001 21.94289657000007...</td>\n",
       "    </tr>\n",
       "    <tr>\n",
       "      <th>140</th>\n",
       "      <td>10014</td>\n",
       "      <td>V</td>\n",
       "      <td>臺東縣</td>\n",
       "      <td>10014030</td>\n",
       "      <td>Guanshan Township</td>\n",
       "      <td>V03</td>\n",
       "      <td>關山鎮</td>\n",
       "      <td>POLYGON ((121.225599643 23.02632788100004, 121...</td>\n",
       "    </tr>\n",
       "    <tr>\n",
       "      <th>141</th>\n",
       "      <td>10014</td>\n",
       "      <td>V</td>\n",
       "      <td>臺東縣</td>\n",
       "      <td>10014050</td>\n",
       "      <td>Luye Township</td>\n",
       "      <td>V09</td>\n",
       "      <td>鹿野鄉</td>\n",
       "      <td>POLYGON ((121.1941896770001 22.93666974800004,...</td>\n",
       "    </tr>\n",
       "  </tbody>\n",
       "</table>\n",
       "</div>"
      ],
      "text/plain": [
       "    COUNTYCODE COUNTYID COUNTYNAME  TOWNCODE             TOWNENG TOWNID  \\\n",
       "0        10014        V        臺東縣  10014020  Chenggong Township    V02   \n",
       "3        10014        V        臺東縣  10014110      Lvdao Township    V11   \n",
       "4        10014        V        臺東縣  10014160      Lanyu Township    V16   \n",
       "140      10014        V        臺東縣  10014030   Guanshan Township    V03   \n",
       "141      10014        V        臺東縣  10014050       Luye Township    V09   \n",
       "\n",
       "    TOWNNAME                                           geometry  \n",
       "0        成功鎮  POLYGON ((121.409815737 23.21369278500009, 121...  \n",
       "3        綠島鄉  (POLYGON ((121.491547243 22.67745703900005, 12...  \n",
       "4        蘭嶼鄉  (POLYGON ((121.6117956420001 21.94289657000007...  \n",
       "140      關山鎮  POLYGON ((121.225599643 23.02632788100004, 121...  \n",
       "141      鹿野鄉  POLYGON ((121.1941896770001 22.93666974800004,...  "
      ]
     },
     "execution_count": 58,
     "metadata": {},
     "output_type": "execute_result"
    }
   ],
   "source": [
    "select.head()"
   ]
  },
  {
   "cell_type": "code",
   "execution_count": 59,
   "metadata": {},
   "outputs": [
    {
     "name": "stdout",
     "output_type": "stream",
     "text": [
      "Warning: CRS does not match!\n"
     ]
    },
    {
     "data": {
      "text/html": [
       "<div>\n",
       "<style>\n",
       "    .dataframe thead tr:only-child th {\n",
       "        text-align: right;\n",
       "    }\n",
       "\n",
       "    .dataframe thead th {\n",
       "        text-align: left;\n",
       "    }\n",
       "\n",
       "    .dataframe tbody tr th {\n",
       "        vertical-align: top;\n",
       "    }\n",
       "</style>\n",
       "<table border=\"1\" class=\"dataframe\">\n",
       "  <thead>\n",
       "    <tr style=\"text-align: right;\">\n",
       "      <th></th>\n",
       "      <th>0</th>\n",
       "      <th>1</th>\n",
       "      <th>2</th>\n",
       "      <th>3</th>\n",
       "      <th>4</th>\n",
       "      <th>5</th>\n",
       "      <th>6</th>\n",
       "      <th>7</th>\n",
       "      <th>8</th>\n",
       "      <th>9</th>\n",
       "      <th>...</th>\n",
       "      <th>13</th>\n",
       "      <th>geometry</th>\n",
       "      <th>index_right</th>\n",
       "      <th>COUNTYCODE</th>\n",
       "      <th>COUNTYID</th>\n",
       "      <th>COUNTYNAME</th>\n",
       "      <th>TOWNCODE</th>\n",
       "      <th>TOWNENG</th>\n",
       "      <th>TOWNID</th>\n",
       "      <th>TOWNNAME</th>\n",
       "    </tr>\n",
       "  </thead>\n",
       "  <tbody>\n",
       "    <tr>\n",
       "      <th>1830</th>\n",
       "      <td>臺東縣</td>\n",
       "      <td>大武鄉</td>\n",
       "      <td>026124-2</td>\n",
       "      <td>大武郵局</td>\n",
       "      <td>(089)791-031</td>\n",
       "      <td>臺東縣大武鄉大武村大武街60號</td>\n",
       "      <td>120.906000</td>\n",
       "      <td>22.358000</td>\n",
       "      <td>自動櫃員機</td>\n",
       "      <td>NaN</td>\n",
       "      <td>...</td>\n",
       "      <td>190</td>\n",
       "      <td>POINT (120.906 22.358)</td>\n",
       "      <td>200</td>\n",
       "      <td>10014</td>\n",
       "      <td>V</td>\n",
       "      <td>臺東縣</td>\n",
       "      <td>10014100</td>\n",
       "      <td>Dawu Township</td>\n",
       "      <td>V05</td>\n",
       "      <td>大武鄉</td>\n",
       "    </tr>\n",
       "    <tr>\n",
       "      <th>1831</th>\n",
       "      <td>臺東縣</td>\n",
       "      <td>太麻里鄉</td>\n",
       "      <td>026113-4</td>\n",
       "      <td>太麻里郵局</td>\n",
       "      <td>(089)781-319</td>\n",
       "      <td>臺東縣太麻里鄉泰和村太麻里街191號</td>\n",
       "      <td>121.002752</td>\n",
       "      <td>22.605783</td>\n",
       "      <td>自動櫃員機</td>\n",
       "      <td>NaN</td>\n",
       "      <td>...</td>\n",
       "      <td>190</td>\n",
       "      <td>POINT (121.002752 22.605783)</td>\n",
       "      <td>199</td>\n",
       "      <td>10014</td>\n",
       "      <td>V</td>\n",
       "      <td>臺東縣</td>\n",
       "      <td>10014090</td>\n",
       "      <td>Taimali Township</td>\n",
       "      <td>V06</td>\n",
       "      <td>太麻里鄉</td>\n",
       "    </tr>\n",
       "    <tr>\n",
       "      <th>1832</th>\n",
       "      <td>臺東縣</td>\n",
       "      <td>太麻里鄉</td>\n",
       "      <td>026114-8</td>\n",
       "      <td>金峰金崙郵局</td>\n",
       "      <td>(089)771-056</td>\n",
       "      <td>臺東縣太麻里鄉金崙村323號</td>\n",
       "      <td>120.964110</td>\n",
       "      <td>22.533380</td>\n",
       "      <td>自動櫃員機</td>\n",
       "      <td>NaN</td>\n",
       "      <td>...</td>\n",
       "      <td>190</td>\n",
       "      <td>POINT (120.96411 22.53337999999999)</td>\n",
       "      <td>199</td>\n",
       "      <td>10014</td>\n",
       "      <td>V</td>\n",
       "      <td>臺東縣</td>\n",
       "      <td>10014090</td>\n",
       "      <td>Taimali Township</td>\n",
       "      <td>V06</td>\n",
       "      <td>太麻里鄉</td>\n",
       "    </tr>\n",
       "    <tr>\n",
       "      <th>1833</th>\n",
       "      <td>臺東縣</td>\n",
       "      <td>成功鎮</td>\n",
       "      <td>026121-1</td>\n",
       "      <td>成功郵局</td>\n",
       "      <td>(089)851-039</td>\n",
       "      <td>臺東縣成功鎮中華路77號</td>\n",
       "      <td>121.378060</td>\n",
       "      <td>23.100410</td>\n",
       "      <td>自動櫃員機</td>\n",
       "      <td>自動櫃員存提款機</td>\n",
       "      <td>...</td>\n",
       "      <td>190</td>\n",
       "      <td>POINT (121.37806 23.10041)</td>\n",
       "      <td>0</td>\n",
       "      <td>10014</td>\n",
       "      <td>V</td>\n",
       "      <td>臺東縣</td>\n",
       "      <td>10014020</td>\n",
       "      <td>Chenggong Township</td>\n",
       "      <td>V02</td>\n",
       "      <td>成功鎮</td>\n",
       "    </tr>\n",
       "    <tr>\n",
       "      <th>1834</th>\n",
       "      <td>臺東縣</td>\n",
       "      <td>池上鄉</td>\n",
       "      <td>026120-8</td>\n",
       "      <td>池上郵局</td>\n",
       "      <td>(089)862-071</td>\n",
       "      <td>臺東縣池上鄉中山路201號</td>\n",
       "      <td>121.218000</td>\n",
       "      <td>23.124300</td>\n",
       "      <td>自動櫃員機</td>\n",
       "      <td>NaN</td>\n",
       "      <td>...</td>\n",
       "      <td>190</td>\n",
       "      <td>POINT (121.218 23.1243)</td>\n",
       "      <td>142</td>\n",
       "      <td>10014</td>\n",
       "      <td>V</td>\n",
       "      <td>臺東縣</td>\n",
       "      <td>10014060</td>\n",
       "      <td>Chishang Township</td>\n",
       "      <td>V10</td>\n",
       "      <td>池上鄉</td>\n",
       "    </tr>\n",
       "  </tbody>\n",
       "</table>\n",
       "<p>5 rows × 23 columns</p>\n",
       "</div>"
      ],
      "text/plain": [
       "        0     1         2       3             4                   5  \\\n",
       "1830  臺東縣   大武鄉  026124-2    大武郵局  (089)791-031     臺東縣大武鄉大武村大武街60號   \n",
       "1831  臺東縣  太麻里鄉  026113-4   太麻里郵局  (089)781-319  臺東縣太麻里鄉泰和村太麻里街191號   \n",
       "1832  臺東縣  太麻里鄉  026114-8  金峰金崙郵局  (089)771-056      臺東縣太麻里鄉金崙村323號   \n",
       "1833  臺東縣   成功鎮  026121-1    成功郵局  (089)851-039        臺東縣成功鎮中華路77號   \n",
       "1834  臺東縣   池上鄉  026120-8    池上郵局  (089)862-071       臺東縣池上鄉中山路201號   \n",
       "\n",
       "               6          7      8         9   ...      13  \\\n",
       "1830  120.906000  22.358000  自動櫃員機       NaN   ...     190   \n",
       "1831  121.002752  22.605783  自動櫃員機       NaN   ...     190   \n",
       "1832  120.964110  22.533380  自動櫃員機       NaN   ...     190   \n",
       "1833  121.378060  23.100410  自動櫃員機  自動櫃員存提款機   ...     190   \n",
       "1834  121.218000  23.124300  自動櫃員機       NaN   ...     190   \n",
       "\n",
       "                                 geometry index_right  COUNTYCODE COUNTYID  \\\n",
       "1830               POINT (120.906 22.358)         200       10014        V   \n",
       "1831         POINT (121.002752 22.605783)         199       10014        V   \n",
       "1832  POINT (120.96411 22.53337999999999)         199       10014        V   \n",
       "1833           POINT (121.37806 23.10041)           0       10014        V   \n",
       "1834              POINT (121.218 23.1243)         142       10014        V   \n",
       "\n",
       "      COUNTYNAME  TOWNCODE             TOWNENG TOWNID TOWNNAME  \n",
       "1830         臺東縣  10014100       Dawu Township    V05      大武鄉  \n",
       "1831         臺東縣  10014090    Taimali Township    V06     太麻里鄉  \n",
       "1832         臺東縣  10014090    Taimali Township    V06     太麻里鄉  \n",
       "1833         臺東縣  10014020  Chenggong Township    V02      成功鎮  \n",
       "1834         臺東縣  10014060   Chishang Township    V10      池上鄉  \n",
       "\n",
       "[5 rows x 23 columns]"
      ]
     },
     "execution_count": 59,
     "metadata": {},
     "output_type": "execute_result"
    }
   ],
   "source": [
    "gpd.sjoin(atm, select, op='within').head()"
   ]
  },
  {
   "cell_type": "code",
   "execution_count": 60,
   "metadata": {
    "collapsed": true
   },
   "outputs": [],
   "source": [
    "select = select.to_crs({'init': 'epsg:4326'})"
   ]
  },
  {
   "cell_type": "code",
   "execution_count": 61,
   "metadata": {},
   "outputs": [
    {
     "data": {
      "text/plain": [
       "16"
      ]
     },
     "execution_count": 61,
     "metadata": {},
     "output_type": "execute_result"
    }
   ],
   "source": [
    "len(select)"
   ]
  },
  {
   "cell_type": "code",
   "execution_count": 62,
   "metadata": {
    "collapsed": true
   },
   "outputs": [],
   "source": [
    "sj = gpd.sjoin(atm, select, op='within').groupby([0,1]).size().to_frame()"
   ]
  },
  {
   "cell_type": "code",
   "execution_count": 63,
   "metadata": {
    "collapsed": true
   },
   "outputs": [],
   "source": [
    "sj.columns = ['COUNT']"
   ]
  },
  {
   "cell_type": "code",
   "execution_count": 64,
   "metadata": {
    "collapsed": true
   },
   "outputs": [],
   "source": [
    "sj = sj.reset_index()"
   ]
  },
  {
   "cell_type": "code",
   "execution_count": 65,
   "metadata": {
    "collapsed": true
   },
   "outputs": [],
   "source": [
    "sj.columns = ['COUNTYNAME', 'TOWNNAME', 'COUNT']"
   ]
  },
  {
   "cell_type": "code",
   "execution_count": 66,
   "metadata": {},
   "outputs": [
    {
     "data": {
      "text/html": [
       "<div>\n",
       "<style>\n",
       "    .dataframe thead tr:only-child th {\n",
       "        text-align: right;\n",
       "    }\n",
       "\n",
       "    .dataframe thead th {\n",
       "        text-align: left;\n",
       "    }\n",
       "\n",
       "    .dataframe tbody tr th {\n",
       "        vertical-align: top;\n",
       "    }\n",
       "</style>\n",
       "<table border=\"1\" class=\"dataframe\">\n",
       "  <thead>\n",
       "    <tr style=\"text-align: right;\">\n",
       "      <th></th>\n",
       "      <th>COUNTYNAME</th>\n",
       "      <th>TOWNNAME</th>\n",
       "      <th>COUNT</th>\n",
       "    </tr>\n",
       "  </thead>\n",
       "  <tbody>\n",
       "    <tr>\n",
       "      <th>0</th>\n",
       "      <td>臺東縣</td>\n",
       "      <td>卑南鄉</td>\n",
       "      <td>2</td>\n",
       "    </tr>\n",
       "    <tr>\n",
       "      <th>1</th>\n",
       "      <td>臺東縣</td>\n",
       "      <td>大武鄉</td>\n",
       "      <td>1</td>\n",
       "    </tr>\n",
       "    <tr>\n",
       "      <th>2</th>\n",
       "      <td>臺東縣</td>\n",
       "      <td>太麻里鄉</td>\n",
       "      <td>2</td>\n",
       "    </tr>\n",
       "    <tr>\n",
       "      <th>3</th>\n",
       "      <td>臺東縣</td>\n",
       "      <td>延平鄉</td>\n",
       "      <td>1</td>\n",
       "    </tr>\n",
       "    <tr>\n",
       "      <th>4</th>\n",
       "      <td>臺東縣</td>\n",
       "      <td>成功鎮</td>\n",
       "      <td>1</td>\n",
       "    </tr>\n",
       "    <tr>\n",
       "      <th>5</th>\n",
       "      <td>臺東縣</td>\n",
       "      <td>東河鄉</td>\n",
       "      <td>3</td>\n",
       "    </tr>\n",
       "    <tr>\n",
       "      <th>6</th>\n",
       "      <td>臺東縣</td>\n",
       "      <td>池上鄉</td>\n",
       "      <td>1</td>\n",
       "    </tr>\n",
       "    <tr>\n",
       "      <th>7</th>\n",
       "      <td>臺東縣</td>\n",
       "      <td>海端鄉</td>\n",
       "      <td>1</td>\n",
       "    </tr>\n",
       "    <tr>\n",
       "      <th>8</th>\n",
       "      <td>臺東縣</td>\n",
       "      <td>綠島鄉</td>\n",
       "      <td>1</td>\n",
       "    </tr>\n",
       "    <tr>\n",
       "      <th>9</th>\n",
       "      <td>臺東縣</td>\n",
       "      <td>臺東市</td>\n",
       "      <td>20</td>\n",
       "    </tr>\n",
       "    <tr>\n",
       "      <th>10</th>\n",
       "      <td>臺東縣</td>\n",
       "      <td>蘭嶼鄉</td>\n",
       "      <td>1</td>\n",
       "    </tr>\n",
       "    <tr>\n",
       "      <th>11</th>\n",
       "      <td>臺東縣</td>\n",
       "      <td>達仁鄉</td>\n",
       "      <td>1</td>\n",
       "    </tr>\n",
       "    <tr>\n",
       "      <th>12</th>\n",
       "      <td>臺東縣</td>\n",
       "      <td>長濱鄉</td>\n",
       "      <td>1</td>\n",
       "    </tr>\n",
       "    <tr>\n",
       "      <th>13</th>\n",
       "      <td>臺東縣</td>\n",
       "      <td>關山鎮</td>\n",
       "      <td>1</td>\n",
       "    </tr>\n",
       "    <tr>\n",
       "      <th>14</th>\n",
       "      <td>臺東縣</td>\n",
       "      <td>鹿野鄉</td>\n",
       "      <td>2</td>\n",
       "    </tr>\n",
       "  </tbody>\n",
       "</table>\n",
       "</div>"
      ],
      "text/plain": [
       "   COUNTYNAME TOWNNAME  COUNT\n",
       "0         臺東縣      卑南鄉      2\n",
       "1         臺東縣      大武鄉      1\n",
       "2         臺東縣     太麻里鄉      2\n",
       "3         臺東縣      延平鄉      1\n",
       "4         臺東縣      成功鎮      1\n",
       "5         臺東縣      東河鄉      3\n",
       "6         臺東縣      池上鄉      1\n",
       "7         臺東縣      海端鄉      1\n",
       "8         臺東縣      綠島鄉      1\n",
       "9         臺東縣      臺東市     20\n",
       "10        臺東縣      蘭嶼鄉      1\n",
       "11        臺東縣      達仁鄉      1\n",
       "12        臺東縣      長濱鄉      1\n",
       "13        臺東縣      關山鎮      1\n",
       "14        臺東縣      鹿野鄉      2"
      ]
     },
     "execution_count": 66,
     "metadata": {},
     "output_type": "execute_result"
    }
   ],
   "source": [
    "sj"
   ]
  },
  {
   "cell_type": "code",
   "execution_count": 67,
   "metadata": {},
   "outputs": [
    {
     "data": {
      "text/html": [
       "<div>\n",
       "<style>\n",
       "    .dataframe thead tr:only-child th {\n",
       "        text-align: right;\n",
       "    }\n",
       "\n",
       "    .dataframe thead th {\n",
       "        text-align: left;\n",
       "    }\n",
       "\n",
       "    .dataframe tbody tr th {\n",
       "        vertical-align: top;\n",
       "    }\n",
       "</style>\n",
       "<table border=\"1\" class=\"dataframe\">\n",
       "  <thead>\n",
       "    <tr style=\"text-align: right;\">\n",
       "      <th></th>\n",
       "      <th>COUNTYCODE</th>\n",
       "      <th>COUNTYID</th>\n",
       "      <th>COUNTYNAME</th>\n",
       "      <th>TOWNCODE</th>\n",
       "      <th>TOWNENG</th>\n",
       "      <th>TOWNID</th>\n",
       "      <th>TOWNNAME</th>\n",
       "      <th>geometry</th>\n",
       "    </tr>\n",
       "  </thead>\n",
       "  <tbody>\n",
       "    <tr>\n",
       "      <th>0</th>\n",
       "      <td>10014</td>\n",
       "      <td>V</td>\n",
       "      <td>臺東縣</td>\n",
       "      <td>10014020</td>\n",
       "      <td>Chenggong Township</td>\n",
       "      <td>V02</td>\n",
       "      <td>成功鎮</td>\n",
       "      <td>POLYGON ((121.409815737 23.21369278500009, 121...</td>\n",
       "    </tr>\n",
       "    <tr>\n",
       "      <th>3</th>\n",
       "      <td>10014</td>\n",
       "      <td>V</td>\n",
       "      <td>臺東縣</td>\n",
       "      <td>10014110</td>\n",
       "      <td>Lvdao Township</td>\n",
       "      <td>V11</td>\n",
       "      <td>綠島鄉</td>\n",
       "      <td>(POLYGON ((121.491547243 22.67745703900005, 12...</td>\n",
       "    </tr>\n",
       "    <tr>\n",
       "      <th>4</th>\n",
       "      <td>10014</td>\n",
       "      <td>V</td>\n",
       "      <td>臺東縣</td>\n",
       "      <td>10014160</td>\n",
       "      <td>Lanyu Township</td>\n",
       "      <td>V16</td>\n",
       "      <td>蘭嶼鄉</td>\n",
       "      <td>(POLYGON ((121.6117956420001 21.94289657000007...</td>\n",
       "    </tr>\n",
       "    <tr>\n",
       "      <th>140</th>\n",
       "      <td>10014</td>\n",
       "      <td>V</td>\n",
       "      <td>臺東縣</td>\n",
       "      <td>10014030</td>\n",
       "      <td>Guanshan Township</td>\n",
       "      <td>V03</td>\n",
       "      <td>關山鎮</td>\n",
       "      <td>POLYGON ((121.225599643 23.02632788100005, 121...</td>\n",
       "    </tr>\n",
       "    <tr>\n",
       "      <th>141</th>\n",
       "      <td>10014</td>\n",
       "      <td>V</td>\n",
       "      <td>臺東縣</td>\n",
       "      <td>10014050</td>\n",
       "      <td>Luye Township</td>\n",
       "      <td>V09</td>\n",
       "      <td>鹿野鄉</td>\n",
       "      <td>POLYGON ((121.1941896770001 22.93666974800004,...</td>\n",
       "    </tr>\n",
       "  </tbody>\n",
       "</table>\n",
       "</div>"
      ],
      "text/plain": [
       "    COUNTYCODE COUNTYID COUNTYNAME  TOWNCODE             TOWNENG TOWNID  \\\n",
       "0        10014        V        臺東縣  10014020  Chenggong Township    V02   \n",
       "3        10014        V        臺東縣  10014110      Lvdao Township    V11   \n",
       "4        10014        V        臺東縣  10014160      Lanyu Township    V16   \n",
       "140      10014        V        臺東縣  10014030   Guanshan Township    V03   \n",
       "141      10014        V        臺東縣  10014050       Luye Township    V09   \n",
       "\n",
       "    TOWNNAME                                           geometry  \n",
       "0        成功鎮  POLYGON ((121.409815737 23.21369278500009, 121...  \n",
       "3        綠島鄉  (POLYGON ((121.491547243 22.67745703900005, 12...  \n",
       "4        蘭嶼鄉  (POLYGON ((121.6117956420001 21.94289657000007...  \n",
       "140      關山鎮  POLYGON ((121.225599643 23.02632788100005, 121...  \n",
       "141      鹿野鄉  POLYGON ((121.1941896770001 22.93666974800004,...  "
      ]
     },
     "execution_count": 67,
     "metadata": {},
     "output_type": "execute_result"
    }
   ],
   "source": [
    "select.head()"
   ]
  },
  {
   "cell_type": "code",
   "execution_count": 68,
   "metadata": {},
   "outputs": [
    {
     "name": "stderr",
     "output_type": "stream",
     "text": [
      "/usr/local/lib/python2.7/site-packages/ipykernel_launcher.py:1: UnicodeWarning: Unicode equal comparison failed to convert both arguments to Unicode - interpreting them as being unequal\n",
      "  \"\"\"Entry point for launching an IPython kernel.\n"
     ]
    },
    {
     "data": {
      "text/plain": [
       "False"
      ]
     },
     "execution_count": 68,
     "metadata": {},
     "output_type": "execute_result"
    }
   ],
   "source": [
    "sj.iloc[4].TOWNNAME == select.iloc[0].TOWNNAME"
   ]
  },
  {
   "cell_type": "code",
   "execution_count": 69,
   "metadata": {},
   "outputs": [
    {
     "data": {
      "text/plain": [
       "0      卑南鄉\n",
       "1      大武鄉\n",
       "2     太麻里鄉\n",
       "3      延平鄉\n",
       "4      成功鎮\n",
       "5      東河鄉\n",
       "6      池上鄉\n",
       "7      海端鄉\n",
       "8      綠島鄉\n",
       "9      臺東市\n",
       "10     蘭嶼鄉\n",
       "11     達仁鄉\n",
       "12     長濱鄉\n",
       "13     關山鎮\n",
       "14     鹿野鄉\n",
       "Name: TOWNNAME, dtype: object"
      ]
     },
     "execution_count": 69,
     "metadata": {},
     "output_type": "execute_result"
    }
   ],
   "source": [
    "sj.TOWNNAME.astype(str)"
   ]
  },
  {
   "cell_type": "code",
   "execution_count": 70,
   "metadata": {},
   "outputs": [
    {
     "data": {
      "text/plain": [
       "'\\xe6\\x88\\x90\\xe5\\x8a\\x9f\\xe9\\x8e\\xae'"
      ]
     },
     "execution_count": 70,
     "metadata": {},
     "output_type": "execute_result"
    }
   ],
   "source": [
    "sj.iloc[4].TOWNNAME"
   ]
  },
  {
   "cell_type": "code",
   "execution_count": 71,
   "metadata": {},
   "outputs": [
    {
     "data": {
      "text/plain": [
       "u'\\u6210\\u529f\\u93ae'"
      ]
     },
     "execution_count": 71,
     "metadata": {},
     "output_type": "execute_result"
    }
   ],
   "source": [
    "sj.iloc[4].TOWNNAME.decode('utf8')"
   ]
  },
  {
   "cell_type": "code",
   "execution_count": 72,
   "metadata": {
    "collapsed": true
   },
   "outputs": [],
   "source": [
    "sj.TOWNNAME = sj.TOWNNAME.apply(lambda x: x.decode('utf8'))"
   ]
  },
  {
   "cell_type": "code",
   "execution_count": 73,
   "metadata": {},
   "outputs": [
    {
     "data": {
      "text/plain": [
       "True"
      ]
     },
     "execution_count": 73,
     "metadata": {},
     "output_type": "execute_result"
    }
   ],
   "source": [
    "sj.iloc[4].TOWNNAME == select.iloc[0].TOWNNAME"
   ]
  },
  {
   "cell_type": "code",
   "execution_count": 74,
   "metadata": {
    "collapsed": true
   },
   "outputs": [],
   "source": [
    "select = select.merge(sj, on='TOWNNAME', how='left')"
   ]
  },
  {
   "cell_type": "code",
   "execution_count": 75,
   "metadata": {},
   "outputs": [
    {
     "data": {
      "text/html": [
       "<div>\n",
       "<style>\n",
       "    .dataframe thead tr:only-child th {\n",
       "        text-align: right;\n",
       "    }\n",
       "\n",
       "    .dataframe thead th {\n",
       "        text-align: left;\n",
       "    }\n",
       "\n",
       "    .dataframe tbody tr th {\n",
       "        vertical-align: top;\n",
       "    }\n",
       "</style>\n",
       "<table border=\"1\" class=\"dataframe\">\n",
       "  <thead>\n",
       "    <tr style=\"text-align: right;\">\n",
       "      <th></th>\n",
       "      <th>COUNTYCODE</th>\n",
       "      <th>COUNTYID</th>\n",
       "      <th>COUNTYNAME_x</th>\n",
       "      <th>TOWNCODE</th>\n",
       "      <th>TOWNENG</th>\n",
       "      <th>TOWNID</th>\n",
       "      <th>TOWNNAME</th>\n",
       "      <th>geometry</th>\n",
       "      <th>COUNTYNAME_y</th>\n",
       "      <th>COUNT</th>\n",
       "    </tr>\n",
       "  </thead>\n",
       "  <tbody>\n",
       "    <tr>\n",
       "      <th>0</th>\n",
       "      <td>10014</td>\n",
       "      <td>V</td>\n",
       "      <td>臺東縣</td>\n",
       "      <td>10014020</td>\n",
       "      <td>Chenggong Township</td>\n",
       "      <td>V02</td>\n",
       "      <td>成功鎮</td>\n",
       "      <td>POLYGON ((121.409815737 23.21369278500009, 121...</td>\n",
       "      <td>臺東縣</td>\n",
       "      <td>1.0</td>\n",
       "    </tr>\n",
       "    <tr>\n",
       "      <th>1</th>\n",
       "      <td>10014</td>\n",
       "      <td>V</td>\n",
       "      <td>臺東縣</td>\n",
       "      <td>10014110</td>\n",
       "      <td>Lvdao Township</td>\n",
       "      <td>V11</td>\n",
       "      <td>綠島鄉</td>\n",
       "      <td>(POLYGON ((121.491547243 22.67745703900005, 12...</td>\n",
       "      <td>臺東縣</td>\n",
       "      <td>1.0</td>\n",
       "    </tr>\n",
       "    <tr>\n",
       "      <th>2</th>\n",
       "      <td>10014</td>\n",
       "      <td>V</td>\n",
       "      <td>臺東縣</td>\n",
       "      <td>10014160</td>\n",
       "      <td>Lanyu Township</td>\n",
       "      <td>V16</td>\n",
       "      <td>蘭嶼鄉</td>\n",
       "      <td>(POLYGON ((121.6117956420001 21.94289657000007...</td>\n",
       "      <td>臺東縣</td>\n",
       "      <td>1.0</td>\n",
       "    </tr>\n",
       "    <tr>\n",
       "      <th>3</th>\n",
       "      <td>10014</td>\n",
       "      <td>V</td>\n",
       "      <td>臺東縣</td>\n",
       "      <td>10014030</td>\n",
       "      <td>Guanshan Township</td>\n",
       "      <td>V03</td>\n",
       "      <td>關山鎮</td>\n",
       "      <td>POLYGON ((121.225599643 23.02632788100005, 121...</td>\n",
       "      <td>臺東縣</td>\n",
       "      <td>1.0</td>\n",
       "    </tr>\n",
       "    <tr>\n",
       "      <th>4</th>\n",
       "      <td>10014</td>\n",
       "      <td>V</td>\n",
       "      <td>臺東縣</td>\n",
       "      <td>10014050</td>\n",
       "      <td>Luye Township</td>\n",
       "      <td>V09</td>\n",
       "      <td>鹿野鄉</td>\n",
       "      <td>POLYGON ((121.1941896770001 22.93666974800004,...</td>\n",
       "      <td>臺東縣</td>\n",
       "      <td>2.0</td>\n",
       "    </tr>\n",
       "  </tbody>\n",
       "</table>\n",
       "</div>"
      ],
      "text/plain": [
       "  COUNTYCODE COUNTYID COUNTYNAME_x  TOWNCODE             TOWNENG TOWNID  \\\n",
       "0      10014        V          臺東縣  10014020  Chenggong Township    V02   \n",
       "1      10014        V          臺東縣  10014110      Lvdao Township    V11   \n",
       "2      10014        V          臺東縣  10014160      Lanyu Township    V16   \n",
       "3      10014        V          臺東縣  10014030   Guanshan Township    V03   \n",
       "4      10014        V          臺東縣  10014050       Luye Township    V09   \n",
       "\n",
       "  TOWNNAME                                           geometry COUNTYNAME_y  \\\n",
       "0      成功鎮  POLYGON ((121.409815737 23.21369278500009, 121...          臺東縣   \n",
       "1      綠島鄉  (POLYGON ((121.491547243 22.67745703900005, 12...          臺東縣   \n",
       "2      蘭嶼鄉  (POLYGON ((121.6117956420001 21.94289657000007...          臺東縣   \n",
       "3      關山鎮  POLYGON ((121.225599643 23.02632788100005, 121...          臺東縣   \n",
       "4      鹿野鄉  POLYGON ((121.1941896770001 22.93666974800004,...          臺東縣   \n",
       "\n",
       "   COUNT  \n",
       "0    1.0  \n",
       "1    1.0  \n",
       "2    1.0  \n",
       "3    1.0  \n",
       "4    2.0  "
      ]
     },
     "execution_count": 75,
     "metadata": {},
     "output_type": "execute_result"
    }
   ],
   "source": [
    "select.head()"
   ]
  },
  {
   "cell_type": "code",
   "execution_count": 76,
   "metadata": {},
   "outputs": [
    {
     "data": {
      "text/plain": [
       "count    15.000000\n",
       "mean      2.600000\n",
       "std       4.852098\n",
       "min       1.000000\n",
       "25%       1.000000\n",
       "50%       1.000000\n",
       "75%       2.000000\n",
       "max      20.000000\n",
       "Name: COUNT, dtype: float64"
      ]
     },
     "execution_count": 76,
     "metadata": {},
     "output_type": "execute_result"
    }
   ],
   "source": [
    "select.COUNT.describe()"
   ]
  },
  {
   "cell_type": "code",
   "execution_count": 77,
   "metadata": {
    "collapsed": true
   },
   "outputs": [],
   "source": [
    "select = select.fillna(0)"
   ]
  },
  {
   "cell_type": "code",
   "execution_count": 78,
   "metadata": {},
   "outputs": [
    {
     "data": {
      "text/plain": [
       "<matplotlib.axes._subplots.AxesSubplot at 0x1191edb90>"
      ]
     },
     "execution_count": 78,
     "metadata": {},
     "output_type": "execute_result"
    },
    {
     "data": {
      "image/png": "[encoded data removed]",
      "text/plain": [
       "<matplotlib.figure.Figure at 0x116b637d0>"
      ]
     },
     "metadata": {},
     "output_type": "display_data"
    }
   ],
   "source": [
    "select.plot(column='COUNT', scheme='QUANTILES', figsize=(15, 15), cmap=plt.cm.Blues, legend=True)"
   ]
  },
  {
   "cell_type": "code",
   "execution_count": null,
   "metadata": {
    "collapsed": true
   },
   "outputs": [],
   "source": []
  }
 ],
 "metadata": {
  "kernelspec": {
   "display_name": "Python 2",
   "language": "python",
   "name": "python2"
  },
  "language_info": {
   "codemirror_mode": {
    "name": "ipython",
    "version": 2
   },
   "file_extension": ".py",
   "mimetype": "text/x-python",
   "name": "python",
   "nbconvert_exporter": "python",
   "pygments_lexer": "ipython2",
   "version": "2.7.13"
  }
 },
 "nbformat": 4,
 "nbformat_minor": 2
}
